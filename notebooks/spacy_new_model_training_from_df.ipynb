{
  "nbformat": 4,
  "nbformat_minor": 0,
  "metadata": {
    "colab": {
      "name": "spacy_training_from_df.ipynb",
      "provenance": [],
      "collapsed_sections": [],
      "mount_file_id": "1KYB6BlzBbKpTK3YLrdsVNevmbA2aaywI",
      "authorship_tag": "ABX9TyNW516PeZbK/jCkdgcuLsXr",
      "include_colab_link": true
    },
    "kernelspec": {
      "name": "python3",
      "display_name": "Python 3"
    },
    "language_info": {
      "name": "python"
    },
    "accelerator": "GPU"
  },
  "cells": [
    {
      "cell_type": "markdown",
      "metadata": {
        "id": "view-in-github",
        "colab_type": "text"
      },
      "source": [
        "<a href=\"https://colab.research.google.com/github/Absolutorcinus/Histogram_ct_scan/blob/master/notebooks/spacy_new_model_training_from_df.ipynb\" target=\"_parent\"><img src=\"https://colab.research.google.com/assets/colab-badge.svg\" alt=\"Open In Colab\"/></a>"
      ]
    },
    {
      "cell_type": "code",
      "source": [
        "!pip uninstall spacy\n",
        "!pip install spacy\n",
        "!python -m spacy download en_core_web_lg\n",
        "!python -m spacy download en_core_web_trf\n",
        "!python -m spacy download de_core_news_lg\n"
      ],
      "metadata": {
        "id": "g-r4P_xvF7pP"
      },
      "execution_count": null,
      "outputs": []
    },
    {
      "cell_type": "code",
      "source": [
        "!python -m spacy info"
      ],
      "metadata": {
        "colab": {
          "base_uri": "https://localhost:8080/"
        },
        "id": "ra1W5wN462L2",
        "outputId": "cd52a881-8dd4-4200-f422-34e9a1c1423a"
      },
      "execution_count": 1,
      "outputs": [
        {
          "output_type": "stream",
          "name": "stdout",
          "text": [
            "\u001b[1m\n",
            "============================== Info about spaCy ==============================\u001b[0m\n",
            "\n",
            "spaCy version    3.2.3                         \n",
            "Location         /usr/local/lib/python3.7/dist-packages/spacy\n",
            "Platform         Linux-5.4.144+-x86_64-with-Ubuntu-18.04-bionic\n",
            "Python version   3.7.13                        \n",
            "Pipelines        en_core_web_trf (3.2.0), de_core_news_lg (3.2.0), en_core_web_lg (3.2.0)\n",
            "\n"
          ]
        }
      ]
    },
    {
      "cell_type": "code",
      "execution_count": 3,
      "metadata": {
        "id": "kH-VNaxNSdDF",
        "colab": {
          "base_uri": "https://localhost:8080/",
          "height": 36
        },
        "outputId": "53450ee8-b7fc-4ade-95ce-dbec9aa3cdaa"
      },
      "outputs": [
        {
          "output_type": "execute_result",
          "data": {
            "text/plain": [
              "'\\ntrain = \"/content/train_data.spacy\"\\ndev = \"/content/valid_data.spacy\"\\n'"
            ],
            "application/vnd.google.colaboratory.intrinsic+json": {
              "type": "string"
            }
          },
          "metadata": {},
          "execution_count": 3
        }
      ],
      "source": [
        "\n",
        "'''\n",
        "train = \"/content/train_data.spacy\"\n",
        "dev = \"/content/valid_data.spacy\"\n",
        "'''"
      ]
    },
    {
      "cell_type": "code",
      "source": [
        "import pandas as pd\n",
        "import spacy\n",
        "import en_core_web_lg\n",
        "import en_core_web_trf\n",
        "from spacy.tokens import DocBin\n",
        "\n",
        "\n",
        "import warnings\n",
        "from pathlib import Path\n",
        "\n",
        "\n"
      ],
      "metadata": {
        "id": "a42zAInN2_I-"
      },
      "execution_count": 2,
      "outputs": []
    },
    {
      "cell_type": "code",
      "source": [
        "#For the other method:\n",
        "\n",
        "#create_spacy dataset\n",
        "#en_spacy_set = [(t,{\"entities\":[(0, len(t), str(s))]}) for t,s in list(zip(en_df.text,en_df.sentiment))]\n",
        "#create_spacy dataset\n",
        "#en_spacy_set_m = [(t,{\"entities\":[(0, len(t), str(s))]}) for t,s in list(zip(en_df.text,en_df.sentiment))]\n"
      ],
      "metadata": {
        "id": "iq7Zkapd4JaF"
      },
      "execution_count": 3,
      "outputs": []
    },
    {
      "cell_type": "code",
      "source": [
        "#en_df['sentiment'] = en_df.sentiment.map({'neg':0, 'pos':1})\n",
        "#de_df['sentiment'] = de_df.sentiment.map({'neg':0, 'pos':1})\n",
        "en_df = pd.read_csv(\"/content/drive/MyDrive/data/en_df_final.csv\")[['text','sentiment']]\n",
        "de_df = pd.read_csv(\"/content/drive/MyDrive/data/de_df_final.csv\")[['text','sentiment']]\n",
        "en_df['sentiment'] = en_df.sentiment.map({0:'neg', 1:'pos'})\n",
        "de_df['sentiment'] = de_df.sentiment.map({0:'neg', 1:'pos'})"
      ],
      "metadata": {
        "id": "e789MVaP3QTl"
      },
      "execution_count": 3,
      "outputs": []
    },
    {
      "cell_type": "code",
      "source": [
        "#this function gets dataframe and return list of training validating and testing datasets\n",
        "\n",
        "def create_dataset(en_df):\n",
        "  #shuffeling\n",
        "  en_df = en_df.sample(frac=1).reset_index(drop=True)\n",
        "\n",
        "  #70% for training dataset\n",
        "  en_data_train = en_df[:int(len(en_df)*70/100)]\n",
        "\n",
        "  #15% for validation dataset\n",
        "  min_index = int(len(en_df)*70/100)\n",
        "  max_index = int(len(en_df)*70/100)+int(len(en_df)*15/100)\n",
        "  en_data_valid = en_df[min_index:max_index]\n",
        "\n",
        "  #15% for teting dataset\n",
        "  en_data_test = en_df[max_index:]\n",
        "\n",
        "  #creating  training validation and  testing \n",
        "  en_data_train = [(t,s) for t,s in list(zip(en_data_train.text, en_data_train.sentiment))]\n",
        "  en_data_valid = [(t,s) for t,s in list(zip(en_data_valid.text, en_data_valid.sentiment))]\n",
        "  en_data_test = [(t,s) for t,s in list(zip(en_data_test.text, en_data_test.sentiment))]\n",
        "  print(f\"sum of the length of the dataset: {len(en_data_train)+len(en_data_valid)+len(en_data_test)}\")\n",
        "\n",
        "  return [en_data_train,en_data_valid,en_data_test ]\n",
        "\n"
      ],
      "metadata": {
        "id": "9f6pJTk5QmWN"
      },
      "execution_count": 4,
      "outputs": []
    },
    {
      "cell_type": "code",
      "source": [
        "\"\"\"\n",
        "this function will take a list((text,labels ))\n",
        "returns  as spacy documents\n",
        "\n",
        "input: list(tuple(text, label))\n",
        "return: List(<spacy.Doc.doc>)\n",
        "\"\"\"\n",
        "def make_docs(list_text_label, language):\n",
        "  if language == \"en\":\n",
        "    nlp = spacy.load(\"en_core_web_lg\")\n",
        "  elif language == \"de\":\n",
        "    nlp = spacy.load(\"de_core_news_lg\")\n",
        "\n",
        "  docs = []\n",
        "  for doc, label in nlp.pipe(list_text_label, as_tuples=True):\n",
        "    if label == \"neg\":\n",
        "      doc.cats[\"positive\"] = 0\n",
        "      doc.cats[\"nagative\"] = 1\n",
        "    else:\n",
        "      doc.cats[\"positive\"] = 1\n",
        "      doc.cats[\"nagative\"] = 0\n",
        "  # its reading the data and \n",
        "    docs.append(doc)\n",
        "  return  docs\n",
        "    "
      ],
      "metadata": {
        "id": "vrp44MpN6EVV"
      },
      "execution_count": 5,
      "outputs": []
    },
    {
      "cell_type": "code",
      "source": [
        "#creating binary files: traiing and validation for the training purposes\n",
        "def create_binary_spacy(data_train, data_valid, language ):\n",
        "  train_docs = make_docs(data_train, language)\n",
        "  doc_bin = DocBin(docs=train_docs)\n",
        "  doc_bin.to_disk(language+\"_train_data.spacy\")\n",
        "\n",
        "  valid_docs = make_docs(data_valid, language)\n",
        "  doc_bin = DocBin(docs=valid_docs)\n",
        "  doc_bin.to_disk(language+\"_valid_data.spacy\")"
      ],
      "metadata": {
        "id": "bMf_Ts5WLtXb"
      },
      "execution_count": 6,
      "outputs": []
    },
    {
      "cell_type": "markdown",
      "source": [
        "## English"
      ],
      "metadata": {
        "id": "RMwqMVAEvDvh"
      }
    },
    {
      "cell_type": "code",
      "source": [
        "#****done*****"
      ],
      "metadata": {
        "id": "6Iud2peb1w8q"
      },
      "execution_count": 39,
      "outputs": []
    },
    {
      "cell_type": "markdown",
      "source": [
        "## German"
      ],
      "metadata": {
        "id": "feYrNSzPynFj"
      }
    },
    {
      "cell_type": "code",
      "source": [
        "#creating  german datasets\n",
        "ds = create_dataset(de_df)"
      ],
      "metadata": {
        "colab": {
          "base_uri": "https://localhost:8080/"
        },
        "id": "Ob7jwAXfb0by",
        "outputId": "1e78d02b-561b-47fd-fbb1-bbd771d8f921"
      },
      "execution_count": 7,
      "outputs": [
        {
          "output_type": "stream",
          "name": "stdout",
          "text": [
            "sum of the length of the dataset: 38471\n"
          ]
        }
      ]
    },
    {
      "cell_type": "code",
      "source": [
        "#generate the files\n",
        "create_binary_spacy(ds[0], ds[1], \"de\" )"
      ],
      "metadata": {
        "id": "ftiphlodYQ3R"
      },
      "execution_count": 8,
      "outputs": []
    },
    {
      "cell_type": "code",
      "source": [
        "!python -m spacy init fill-config ./base_config.cfg ./config.cfg"
      ],
      "metadata": {
        "colab": {
          "base_uri": "https://localhost:8080/"
        },
        "id": "kxbz7wjgNnDx",
        "outputId": "31e27920-0962-44de-9d3e-3c9367468ee9"
      },
      "execution_count": 9,
      "outputs": [
        {
          "output_type": "stream",
          "name": "stdout",
          "text": [
            "\u001b[38;5;2m✔ Auto-filled config with all values\u001b[0m\n",
            "\u001b[38;5;2m✔ Saved config\u001b[0m\n",
            "config.cfg\n",
            "You can now add your data and train your pipeline:\n",
            "python -m spacy train config.cfg --paths.train ./train.spacy --paths.dev ./dev.spacy\n"
          ]
        }
      ]
    },
    {
      "cell_type": "code",
      "source": [
        "!python -m spacy train config.cfg --output ./output --gpu-id 0"
      ],
      "metadata": {
        "colab": {
          "base_uri": "https://localhost:8080/"
        },
        "id": "9mN64Fjefng5",
        "outputId": "549622da-68f1-4fce-b7ab-b8296dfcfafc"
      },
      "execution_count": 10,
      "outputs": [
        {
          "output_type": "stream",
          "name": "stdout",
          "text": [
            "\u001b[38;5;4mℹ Saving to output directory: output\u001b[0m\n",
            "\u001b[38;5;4mℹ Using GPU: 0\u001b[0m\n",
            "\u001b[1m\n",
            "=========================== Initializing pipeline ===========================\u001b[0m\n",
            "[2022-03-28 23:50:02,694] [INFO] Set up nlp object from config\n",
            "[2022-03-28 23:50:02,705] [INFO] Pipeline: ['textcat_multilabel']\n",
            "[2022-03-28 23:50:02,709] [INFO] Created vocabulary\n",
            "[2022-03-28 23:50:02,710] [INFO] Finished initializing nlp object\n",
            "[2022-03-28 23:50:18,896] [INFO] Initialized pipeline components: ['textcat_multilabel']\n",
            "\u001b[38;5;2m✔ Initialized pipeline\u001b[0m\n",
            "\u001b[1m\n",
            "============================= Training pipeline =============================\u001b[0m\n",
            "\u001b[38;5;4mℹ Pipeline: ['textcat_multilabel']\u001b[0m\n",
            "\u001b[38;5;4mℹ Initial learn rate: 0.0\u001b[0m\n",
            "E    #       LOSS TEXTC...  CATS_SCORE  SCORE \n",
            "---  ------  -------------  ----------  ------\n",
            "  0       0           0.51       50.00    0.50\n",
            "  0     200          47.29       68.25    0.68\n",
            "  1     400          47.27       69.68    0.70\n",
            "  2     600          45.04       69.38    0.69\n",
            "  3     800          45.12       69.56    0.70\n",
            "  4    1000          43.91       69.66    0.70\n",
            "  5    1200          43.26       69.87    0.70\n",
            "  6    1400          41.65       69.93    0.70\n",
            "  7    1600          43.01       70.15    0.70\n",
            "  8    1800          43.80       70.36    0.70\n",
            "  9    2000          39.86       70.52    0.71\n",
            " 10    2200          41.01       70.71    0.71\n",
            " 11    2400          39.47       70.80    0.71\n",
            " 12    2600          41.92       71.05    0.71\n",
            " 13    2800          38.29       71.14    0.71\n",
            " 14    3000          38.99       71.30    0.71\n",
            " 15    3200          37.82       71.40    0.71\n",
            " 16    3400          39.03       71.48    0.71\n",
            " 17    3600          38.89       71.65    0.72\n",
            " 18    3800          36.21       71.79    0.72\n",
            " 18    4000          35.69       71.91    0.72\n",
            " 19    4200          35.21       72.05    0.72\n",
            " 20    4400          36.49       72.21    0.72\n",
            " 21    4600          34.97       72.29    0.72\n",
            " 22    4800          34.18       72.39    0.72\n",
            " 23    5000          36.04       72.53    0.73\n",
            " 24    5200          35.00       72.67    0.73\n",
            " 25    5400          35.29       72.77    0.73\n",
            " 26    5600          33.49       72.85    0.73\n",
            " 27    5800          35.17       72.97    0.73\n",
            " 28    6000          33.89       73.11    0.73\n",
            " 29    6200          31.98       73.16    0.73\n",
            " 30    6400          34.79       73.28    0.73\n",
            " 31    6600          36.03       73.38    0.73\n",
            " 32    6800          36.62       73.48    0.73\n",
            " 33    7000          32.08       73.56    0.74\n",
            " 34    7200          31.70       73.62    0.74\n",
            " 35    7400          30.03       73.69    0.74\n",
            " 36    7600          32.73       73.77    0.74\n",
            " 36    7800          36.25       73.87    0.74\n",
            " 37    8000          31.76       73.95    0.74\n",
            " 38    8200          28.50       73.99    0.74\n",
            " 39    8400          31.14       74.07    0.74\n",
            " 40    8600          33.19       74.15    0.74\n",
            " 41    8800          33.28       74.23    0.74\n",
            " 42    9000          32.31       74.28    0.74\n",
            " 43    9200          30.49       74.33    0.74\n",
            " 44    9400          28.95       74.37    0.74\n",
            " 45    9600          26.64       74.43    0.74\n",
            " 46    9800          32.90       74.49    0.74\n",
            " 47   10000          31.16       74.53    0.75\n",
            " 48   10200          26.37       74.58    0.75\n",
            " 49   10400          28.84       74.62    0.75\n",
            " 50   10600          28.59       74.65    0.75\n",
            " 51   10800          29.64       74.71    0.75\n",
            " 52   11000          28.01       74.75    0.75\n",
            " 53   11200          30.78       74.78    0.75\n",
            " 54   11400          31.16       74.82    0.75\n",
            " 54   11600          30.13       74.87    0.75\n",
            " 55   11800          32.23       74.91    0.75\n",
            " 56   12000          28.36       74.94    0.75\n",
            " 57   12200          30.32       74.98    0.75\n",
            " 58   12400          27.33       75.02    0.75\n",
            " 59   12600          27.12       75.04    0.75\n",
            " 60   12800          30.41       75.08    0.75\n",
            " 61   13000          28.43       75.12    0.75\n",
            " 62   13200          30.28       75.14    0.75\n",
            " 63   13400          27.49       75.16    0.75\n",
            " 64   13600          24.90       75.19    0.75\n",
            " 65   13800          27.23       75.20    0.75\n",
            " 66   14000          28.01       75.23    0.75\n",
            " 67   14200          25.28       75.25    0.75\n",
            " 68   14400          27.35       75.27    0.75\n",
            " 69   14600          27.82       75.30    0.75\n",
            " 70   14800          28.21       75.32    0.75\n",
            " 71   15000          26.54       75.34    0.75\n",
            " 72   15200          26.97       75.36    0.75\n",
            " 72   15400          29.90       75.38    0.75\n",
            " 73   15600          28.96       75.39    0.75\n",
            " 74   15800          25.33       75.41    0.75\n",
            " 75   16000          27.83       75.43    0.75\n",
            " 76   16200          26.32       75.44    0.75\n",
            " 77   16400          26.56       75.45    0.75\n",
            " 78   16600          24.01       75.46    0.75\n",
            " 79   16800          27.03       75.48    0.75\n",
            " 80   17000          25.90       75.49    0.75\n",
            " 81   17200          26.47       75.50    0.75\n",
            " 82   17400          30.20       75.51    0.76\n",
            " 83   17600          29.99       75.52    0.76\n",
            " 84   17800          28.14       75.53    0.76\n",
            " 85   18000          22.04       75.53    0.76\n",
            " 86   18200          26.17       75.53    0.76\n",
            " 87   18400          28.15       75.54    0.76\n",
            " 88   18600          26.71       75.55    0.76\n",
            " 89   18800          26.63       75.55    0.76\n",
            " 90   19000          26.29       75.55    0.76\n",
            " 90   19200          25.28       75.56    0.76\n",
            " 91   19400          26.28       75.56    0.76\n",
            " 92   19600          23.74       75.56    0.76\n",
            " 93   19800          26.61       75.56    0.76\n",
            " 94   20000          29.48       75.56    0.76\n",
            "\u001b[38;5;2m✔ Saved pipeline to output directory\u001b[0m\n",
            "output/model-last\n"
          ]
        }
      ]
    },
    {
      "cell_type": "code",
      "source": [
        "\n"
      ],
      "metadata": {
        "colab": {
          "base_uri": "https://localhost:8080/"
        },
        "id": "mPGUbmOqt38N",
        "outputId": "398c5671-115d-48a0-adec-0ec12838418e"
      },
      "execution_count": 17,
      "outputs": [
        {
          "output_type": "execute_result",
          "data": {
            "text/plain": [
              "('quiz facebook genie wusste', 'pos')"
            ]
          },
          "metadata": {},
          "execution_count": 17
        }
      ]
    },
    {
      "cell_type": "code",
      "source": [
        "nlp =  spacy.load(\"/content/drive/MyDrive/models/german_model/model-best\")\n"
      ],
      "metadata": {
        "id": "_pj5La6kf_cX"
      },
      "execution_count": 15,
      "outputs": []
    },
    {
      "cell_type": "code",
      "source": [
        "predicted = list()\n",
        "for i in range(len(ds[2])):\n",
        "  doc = nlp(ds[2][i][0])\n",
        "  if doc.cats[\"positive\"] > doc.cats[\"nagative\"]:\n",
        "    predicted.append('pos')#{'pos':doc.cats[\"positive\"]})\n",
        "  elif doc.cats[\"positive\"] <= doc.cats[\"nagative\"]:\n",
        "    predicted.append('neg')#{'neg':doc.cats[\"nagative\"]})\n",
        "\n"
      ],
      "metadata": {
        "id": "Sd1FH1Jwu5mF"
      },
      "execution_count": 28,
      "outputs": []
    },
    {
      "cell_type": "code",
      "source": [
        "sentiments = ([j for i,j in ds[2]])\n",
        "predicted = (predicted)\n",
        "\n",
        "count_pos_neg = 0\n",
        "count_pos_pos = 0\n",
        "count_neg_neg = 0\n",
        "count_neg_pos = 0\n",
        "count=0\n",
        "for i in range(len(sentiments)):\n",
        "  if sentiments[i] == predicted[i]:\n",
        "    count+=1\n",
        "\n",
        "\n",
        "print(count, len(sentiments))\n",
        "  \n"
      ],
      "metadata": {
        "colab": {
          "base_uri": "https://localhost:8080/"
        },
        "id": "CMSj4E8VGHKn",
        "outputId": "416df39a-8717-4d8c-9d95-435c611982bf"
      },
      "execution_count": 43,
      "outputs": [
        {
          "output_type": "stream",
          "name": "stdout",
          "text": [
            "3997 5772\n"
          ]
        }
      ]
    }
  ]
}